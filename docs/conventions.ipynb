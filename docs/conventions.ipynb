{
 "cells": [
  {
   "cell_type": "markdown",
   "id": "e128ee1c-1406-4e55-9fb2-16f20910b1b6",
   "metadata": {},
   "source": [
    "# Shape Conventions\n",
    "\n",
    "It's worth defining some shape/indexing conventions in pandora-sat, because we're likely to get confused\n",
    "\n",
    "\n",
    "Python is *row major*."
   ]
  },
  {
   "cell_type": "code",
   "execution_count": 1,
   "id": "7d322498-e6f7-47ad-a743-b208d77e2f17",
   "metadata": {},
   "outputs": [],
   "source": [
    "import numpy as np\n",
    "ar = np.ones((10, 15))"
   ]
  },
  {
   "cell_type": "code",
   "execution_count": 2,
   "id": "e3938894-2b83-4fd0-8ac1-0fd311d97ab8",
   "metadata": {},
   "outputs": [
    {
     "data": {
      "text/plain": [
       "(10, 15)"
      ]
     },
     "execution_count": 2,
     "metadata": {},
     "output_type": "execute_result"
    }
   ],
   "source": [
    "ar.shape"
   ]
  },
  {
   "cell_type": "markdown",
   "id": "c031cfc7-fda3-4c9d-81f1-ee46b3894878",
   "metadata": {},
   "source": [
    "In the above matrix there are 10 *rows* and 15 *columns*"
   ]
  },
  {
   "cell_type": "code",
   "execution_count": 3,
   "id": "e0988655-04c6-405a-8340-57bfe116bcc8",
   "metadata": {},
   "outputs": [
    {
     "data": {
      "text/plain": [
       "(15,)"
      ]
     },
     "execution_count": 3,
     "metadata": {},
     "output_type": "execute_result"
    }
   ],
   "source": [
    "ar[0].shape"
   ]
  },
  {
   "cell_type": "markdown",
   "id": "45717a22-fdf7-4594-b3b8-4c7b72206511",
   "metadata": {},
   "source": [
    "Indexing into the array above gives you the first *row* with 15 elements, because there are 15 *columns*\n",
    "\n",
    "We can use `numpy`'s `meshgrid` function to create arrays that show our *row* and *column* position. However, to make this behave in the way above, we'll need to pass indexing as `'ij'`:"
   ]
  },
  {
   "cell_type": "code",
   "execution_count": 4,
   "id": "c42369a3-0978-4309-8adf-5eb7ee033822",
   "metadata": {},
   "outputs": [],
   "source": [
    "Row, Column = np.meshgrid(np.arange(10), np.arange(15), indexing='ij')"
   ]
  },
  {
   "cell_type": "markdown",
   "id": "fc8ca12e-916d-4680-bcd0-152f6c7319f0",
   "metadata": {},
   "source": [
    "Now these have the correct shape:"
   ]
  },
  {
   "cell_type": "code",
   "execution_count": 5,
   "id": "cf429778-f6c1-456c-8a54-6ce4d5c43c39",
   "metadata": {},
   "outputs": [
    {
     "data": {
      "text/plain": [
       "((10, 15), (10, 15))"
      ]
     },
     "execution_count": 5,
     "metadata": {},
     "output_type": "execute_result"
    }
   ],
   "source": [
    "Row.shape, Column.shape"
   ]
  },
  {
   "cell_type": "markdown",
   "id": "6c3bc5d4-14ae-4a1e-87dd-033c57ec2649",
   "metadata": {},
   "source": [
    "The first index of `Row` gives us the *row* values at each *column*"
   ]
  },
  {
   "cell_type": "code",
   "execution_count": 6,
   "id": "ef2477c0-27f4-470b-881d-5e3d2f95d504",
   "metadata": {},
   "outputs": [
    {
     "data": {
      "text/plain": [
       "array([0, 0, 0, 0, 0, 0, 0, 0, 0, 0, 0, 0, 0, 0, 0])"
      ]
     },
     "execution_count": 6,
     "metadata": {},
     "output_type": "execute_result"
    }
   ],
   "source": [
    "Row[0]"
   ]
  },
  {
   "cell_type": "markdown",
   "id": "fc292956-8051-4b07-a06d-e4394cef1346",
   "metadata": {},
   "source": [
    "The first index of `Column` gives us the *column* values across the first *row*"
   ]
  },
  {
   "cell_type": "code",
   "execution_count": 7,
   "id": "394b0aeb-6dfc-4069-babb-93dd4dd8e344",
   "metadata": {},
   "outputs": [
    {
     "data": {
      "text/plain": [
       "array([ 0,  1,  2,  3,  4,  5,  6,  7,  8,  9, 10, 11, 12, 13, 14])"
      ]
     },
     "execution_count": 7,
     "metadata": {},
     "output_type": "execute_result"
    }
   ],
   "source": [
    "Column[1]"
   ]
  },
  {
   "cell_type": "markdown",
   "id": "da5360a6-7dec-45ad-a614-65021ef61751",
   "metadata": {},
   "source": [
    "This is the default behavior of the similar `mgrid` function"
   ]
  },
  {
   "cell_type": "code",
   "execution_count": 8,
   "id": "fa237001-2781-4119-8c54-b14a72bd917e",
   "metadata": {},
   "outputs": [
    {
     "name": "stdout",
     "output_type": "stream",
     "text": [
      "(10, 15)\n",
      "[0 0 0 0 0 0 0 0 0 0 0 0 0 0 0]\n"
     ]
    }
   ],
   "source": [
    "Row, Column = np.mgrid[:10, :15]\n",
    "print(Row.shape)\n",
    "print(Row[0])"
   ]
  },
  {
   "cell_type": "markdown",
   "id": "625ffa30-bb78-419c-9573-18708a7c4097",
   "metadata": {},
   "source": [
    "Note that some Python functions don't quite follow these conventions, for example `pandora-sat` commonly uses `pcolormesh` to plot arrays, which expects the first element to be the *column* position."
   ]
  },
  {
   "cell_type": "code",
   "execution_count": 9,
   "id": "6c352bc4-60c6-4357-8b90-c75a350c8df3",
   "metadata": {},
   "outputs": [
    {
     "data": {
      "text/plain": [
       "Text(0, 0.5, 'Row')"
      ]
     },
     "execution_count": 9,
     "metadata": {},
     "output_type": "execute_result"
    },
    {
     "data": {
      "image/png": "[encoded data removed]",
      "text/plain": [
       "<Figure size 640x480 with 1 Axes>"
      ]
     },
     "metadata": {},
     "output_type": "display_data"
    }
   ],
   "source": [
    "import matplotlib.pyplot as plt\n",
    "data = np.random.normal(size=(10, 15))\n",
    "plt.pcolormesh(Column, Row, data)\n",
    "plt.xlabel('Column')\n",
    "plt.ylabel('Row')"
   ]
  },
  {
   "cell_type": "markdown",
   "id": "ed8ad3ed-979d-4e6d-9463-271110f42bd8",
   "metadata": {},
   "source": [
    "In Pandora we have detectors that also have *rows* and *columns*. On the IR side we have a tall, thin subarray on the edge of the detector that is going to be 400 *rows* tall and 80 *columns* wide. This means it has shape\n",
    "\n",
    "```python\n",
    "(400, 80)\n",
    "```"
   ]
  },
  {
   "cell_type": "markdown",
   "id": "a8d92149-8cb6-4b97-bdef-d237eb030b89",
   "metadata": {},
   "source": [
    "**Note:** *rows* go along the vertical direction, and so sometimes we might call this variable `y` or `Y`. *columns* go in the horizontal direction, so sometimes we might call this variable `x` or `X`\n",
    "\n",
    "Unfortunately we also like to use *RA* and *Dec*. *RA* tends to go in the horizontal direction (like *rows*), and *Dec* tends to go in the vertical direction (like *columns*). This adds potential confusion."
   ]
  },
  {
   "cell_type": "markdown",
   "id": "f603a3e9-3a0c-4d84-8519-109fda95a606",
   "metadata": {},
   "source": [
    "When we're giving positions into `pandora-sat`, we'll use the following conventions:\n",
    "```python\n",
    "func(RA, Dec) \n",
    "func(row, column)\n",
    "func(y, x)\n",
    "```\n",
    "\n",
    "If these functions return images on the detector, they would return arrays with shape\n",
    "```\n",
    "(nrows, ncolumns)\n",
    "```"
   ]
  },
  {
   "cell_type": "markdown",
   "id": "d800394d-b41c-4067-880d-be831ecb0b9c",
   "metadata": {},
   "source": [
    "# World Coordinate Systems\n",
    "\n",
    "Note while `numpy` and `Python` are **row-major**, however `FITS-WCS` which is used by `astropy` is **column-major**.\n",
    "\n",
    "CRPIX1 refers to the column value, CRPIX2 refers to the row value. For a FITS file with NAXIS1, NAXIS2 = [3,4], the corresponding `numpy` array would have shape [4,3]\n",
    "\n",
    "Because of this we have to be careful about passing values back and forth. That's why there are helper functions `world_to_pixel` and `pixel_to_world` in `Detector` class objects."
   ]
  }
 ],
 "metadata": {
  "kernelspec": {
   "display_name": "Python 3 (ipykernel)",
   "language": "python",
   "name": "python3"
  },
  "language_info": {
   "codemirror_mode": {
    "name": "ipython",
    "version": 3
   },
   "file_extension": ".py",
   "mimetype": "text/x-python",
   "name": "python",
   "nbconvert_exporter": "python",
   "pygments_lexer": "ipython3",
   "version": "3.9.13"
  }
 },
 "nbformat": 4,
 "nbformat_minor": 5
}
