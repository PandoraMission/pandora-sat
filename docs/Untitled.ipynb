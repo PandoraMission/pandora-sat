{
 "cells": [
  {
   "cell_type": "code",
   "execution_count": null,
   "id": "2051413a-4f1d-4bf7-894a-db0bbabcc3fe",
   "metadata": {},
   "outputs": [],
   "source": [
    "def get_sensitivity(self, wavelength):\n",
    "    \"\"\"\n",
    "    Get the sensitivity of the detector.\n",
    "    This is currently calculated from the throughput and QE.\n",
    "    In future this is likely to be replaced by an RDP of the empirical sensitivity.\n",
    "\n",
    "    Parameters\n",
    "    ----------\n",
    "    wavelength : npt.NDArray\n",
    "        Wavelength in microns as an `astropy.Quantity`\n",
    "\n",
    "    Returns\n",
    "    -------\n",
    "    sensitivity : npt.NDArray\n",
    "        Array of the sensitivity of the detector\n",
    "    \"\"\"\n",
    "\n",
    "    A_primary = np.pi * ((43.5 * u.cm).to(u.m) / 2) ** 2\n",
    "    A_secondary = np.pi * ((86 * u.mm).to(u.m) / 2) ** 2\n",
    "    mirror_diameter = ((A_primary - A_secondary) / np.pi) ** 0.5\n",
    "\n",
    "    def photon_energy(wavelength):\n",
    "        \"\"\"Converts photon wavelength to energy.\"\"\"\n",
    "        return ((h * c) / wavelength) * 1 / u.photon\n",
    "\n",
    "    sed = 1 * u.erg / u.s / u.cm**2 / u.angstrom\n",
    "    E = photon_energy(wavelength)\n",
    "    telescope_area = np.pi * (mirror_diameter / 2) ** 2\n",
    "    photon_flux_density = (\n",
    "        telescope_area * sed * self.get_throughput(wavelength) / E\n",
    "    ).to(u.photon / u.second / u.angstrom) * self.get_qe(wavelength)\n",
    "    sensitivity = photon_flux_density / sed\n",
    "    return sensitivity"
   ]
  },
  {
   "cell_type": "code",
   "execution_count": 2,
   "id": "0af31ec3-68af-4218-9827-3cf51c0ee966",
   "metadata": {},
   "outputs": [],
   "source": [
    "import numpy as np\n",
    "import astropy.units as u"
   ]
  },
  {
   "cell_type": "code",
   "execution_count": 8,
   "id": "2c233122-5583-4c78-bd8a-cdf8d98978cb",
   "metadata": {},
   "outputs": [],
   "source": [
    "A_primary = np.pi * ((43.5 * u.cm).to(u.m) / 2) ** 2\n",
    "A_secondary = np.pi * ((86 * u.mm).to(u.m) / 2) ** 2\n",
    "mirror_diameter = ((A_primary - A_secondary) / np.pi) ** 0.5 * 2"
   ]
  },
  {
   "cell_type": "code",
   "execution_count": null,
   "id": "69f49059-1382-4648-8dcc-f74ce632b902",
   "metadata": {},
   "outputs": [],
   "source": []
  },
  {
   "cell_type": "code",
   "execution_count": 6,
   "id": "3a63ae32-e073-4bd8-bb46-e84d298b8516",
   "metadata": {},
   "outputs": [
    {
     "data": {
      "text/latex": [
       "$0.435 \\; \\mathrm{m}$"
      ],
      "text/plain": [
       "<Quantity 0.435 m>"
      ]
     },
     "execution_count": 6,
     "metadata": {},
     "output_type": "execute_result"
    }
   ],
   "source": [
    "(43.5 * u.cm).to(u.m)"
   ]
  },
  {
   "cell_type": "code",
   "execution_count": 5,
   "id": "d5ce1601-b1fb-4241-974a-d4667bdfde63",
   "metadata": {},
   "outputs": [
    {
     "ename": "NameError",
     "evalue": "name 'self' is not defined",
     "output_type": "error",
     "traceback": [
      "\u001b[0;31m---------------------------------------------------------------------------\u001b[0m",
      "\u001b[0;31mNameError\u001b[0m                                 Traceback (most recent call last)",
      "Cell \u001b[0;32mIn[5], line 1\u001b[0m\n\u001b[0;32m----> 1\u001b[0m A_primary \u001b[38;5;241m=\u001b[39m np\u001b[38;5;241m.\u001b[39mpi \u001b[38;5;241m*\u001b[39m (\u001b[38;5;28;43mself\u001b[39;49m\u001b[38;5;241m.\u001b[39mprimary_mirror_effective_diameter \u001b[38;5;241m/\u001b[39m \u001b[38;5;241m2\u001b[39m) \u001b[38;5;241m*\u001b[39m\u001b[38;5;241m*\u001b[39m \u001b[38;5;241m2\u001b[39m\n\u001b[1;32m      2\u001b[0m A_secondary \u001b[38;5;241m=\u001b[39m (\n\u001b[1;32m      3\u001b[0m     np\u001b[38;5;241m.\u001b[39mpi \u001b[38;5;241m*\u001b[39m (\u001b[38;5;28mself\u001b[39m\u001b[38;5;241m.\u001b[39msecondary_mirror_physical_diameter \u001b[38;5;241m/\u001b[39m \u001b[38;5;241m2\u001b[39m) \u001b[38;5;241m*\u001b[39m\u001b[38;5;241m*\u001b[39m \u001b[38;5;241m2\u001b[39m\n\u001b[1;32m      4\u001b[0m )\n\u001b[1;32m      5\u001b[0m r_primary \u001b[38;5;241m=\u001b[39m ((A_primary \u001b[38;5;241m-\u001b[39m A_secondary) \u001b[38;5;241m/\u001b[39m np\u001b[38;5;241m.\u001b[39mpi) \u001b[38;5;241m*\u001b[39m\u001b[38;5;241m*\u001b[39m \u001b[38;5;241m0.5\u001b[39m\n",
      "\u001b[0;31mNameError\u001b[0m: name 'self' is not defined"
     ]
    }
   ],
   "source": [
    "A_primary = np.pi * (self.primary_mirror_effective_diameter / 2) ** 2\n",
    "A_secondary = (\n",
    "    np.pi * (self.secondary_mirror_physical_diameter / 2) ** 2\n",
    ")\n",
    "r_primary = ((A_primary - A_secondary) / np.pi) ** 0.5"
   ]
  },
  {
   "cell_type": "code",
   "execution_count": null,
   "id": "c40808ec-2510-4658-a5ab-1b39091e8b40",
   "metadata": {},
   "outputs": [],
   "source": []
  },
  {
   "cell_type": "code",
   "execution_count": null,
   "id": "61ecda3e-88ef-47e0-9520-d1ad7dc36203",
   "metadata": {},
   "outputs": [],
   "source": [
    "def sensitivity(self, wavelength):\n",
    "    \"\"\"\n",
    "    Calulate the sensitivity of the detector.\n",
    "\n",
    "    Parameters\n",
    "    ----------\n",
    "    wavelength : npt.NDArray\n",
    "        Wavelength in microns as `astropy.unit`\n",
    "\n",
    "    Returns\n",
    "    -------\n",
    "    sensitivity : npt.NDArray\n",
    "        Array of the sensitivity of the detector\n",
    "    \"\"\"\n",
    "    sed = 1 * u.erg / u.s / u.cm**2 / u.angstrom\n",
    "    E = photon_energy(wavelength)\n",
    "    telescope_area = np.pi * (Hardware().mirror_diameter / 2) ** 2\n",
    "    photon_flux_density = (\n",
    "        telescope_area * sed * self.throughput(wavelength) / E\n",
    "    ).to(u.photon / u.second / u.angstrom) * self.qe(wavelength)\n",
    "    sensitivity = photon_flux_density / sed\n",
    "    return sensitivity\n"
   ]
  }
 ],
 "metadata": {
  "kernelspec": {
   "display_name": "Python 3 (ipykernel)",
   "language": "python",
   "name": "python3"
  },
  "language_info": {
   "codemirror_mode": {
    "name": "ipython",
    "version": 3
   },
   "file_extension": ".py",
   "mimetype": "text/x-python",
   "name": "python",
   "nbconvert_exporter": "python",
   "pygments_lexer": "ipython3",
   "version": "3.9.13"
  },
  "widgets": {
   "application/vnd.jupyter.widget-state+json": {
    "state": {},
    "version_major": 2,
    "version_minor": 0
   }
  }
 },
 "nbformat": 4,
 "nbformat_minor": 5
}
